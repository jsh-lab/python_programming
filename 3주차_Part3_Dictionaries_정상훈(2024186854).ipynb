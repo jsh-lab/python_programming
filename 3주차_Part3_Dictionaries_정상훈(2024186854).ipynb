{
  "nbformat": 4,
  "nbformat_minor": 0,
  "metadata": {
    "kernelspec": {
      "display_name": "Python 3",
      "language": "python",
      "name": "python3"
    },
    "language_info": {
      "codemirror_mode": {
        "name": "ipython",
        "version": 3
      },
      "file_extension": ".py",
      "mimetype": "text/x-python",
      "name": "python",
      "nbconvert_exporter": "python",
      "pygments_lexer": "ipython3",
      "version": "3.6.8"
    },
    "colab": {
      "provenance": [],
      "include_colab_link": true
    }
  },
  "cells": [
    {
      "cell_type": "markdown",
      "metadata": {
        "id": "view-in-github",
        "colab_type": "text"
      },
      "source": [
        "<a href=\"https://colab.research.google.com/github/jsh-lab/python_programming/blob/main/3%EC%A3%BC%EC%B0%A8_Part3_Dictionaries_%EC%A0%95%EC%83%81%ED%9B%88(2024186854).ipynb\" target=\"_parent\"><img src=\"https://colab.research.google.com/assets/colab-badge.svg\" alt=\"Open In Colab\"/></a>"
      ]
    },
    {
      "cell_type": "markdown",
      "metadata": {
        "id": "GzHkCWac6RGa"
      },
      "source": [
        "<h1>Dictionaries in Python</h1>"
      ]
    },
    {
      "cell_type": "markdown",
      "metadata": {
        "id": "Gj7VGQtY6RGb"
      },
      "source": [
        "<p><strong>Welcome!</strong> This notebook will teach you about the dictionaries in the Python Programming Language. By the end of this lab, you'll know the basics dictionary operations in Python, including what it is, and the operations on it.</p>"
      ]
    },
    {
      "cell_type": "markdown",
      "metadata": {
        "id": "OeNuSfj76RGc"
      },
      "source": [
        "<h2 id=\"Dic\">Dictionaries</h2>"
      ]
    },
    {
      "cell_type": "markdown",
      "metadata": {
        "id": "gn6o3z_p6RGd"
      },
      "source": [
        "<h3 id=\"content\">What are Dictionaries?</h3>"
      ]
    },
    {
      "cell_type": "markdown",
      "metadata": {
        "id": "cx8gJ4Dd6RGd"
      },
      "source": [
        "A dictionary consists of keys and values. It is helpful to compare a dictionary to a list. Instead of the numerical indexes such as a list, dictionaries have keys. These keys are the keys that are used to access values within a dictionary."
      ]
    },
    {
      "cell_type": "markdown",
      "metadata": {
        "id": "qAx3N3gA6RGe"
      },
      "source": [
        "<img src=\"https://s3-api.us-geo.objectstorage.softlayer.net/cf-courses-data/CognitiveClass/PY0101EN/Chapter%202/Images/DictsList.png\" width=\"650\" />"
      ]
    },
    {
      "cell_type": "markdown",
      "metadata": {
        "id": "xwEygcNr6RGf"
      },
      "source": [
        "An example of a Dictionary <code>Dict</code>:"
      ]
    },
    {
      "cell_type": "code",
      "metadata": {
        "id": "W8JVrjgl6RGf",
        "colab": {
          "base_uri": "https://localhost:8080/"
        },
        "outputId": "e4463943-8775-41fe-9eaf-bd9cac9eb102"
      },
      "source": [
        "# Create the dictionary\n",
        "\n",
        "Dict = {\"key1\": 1, \"key2\": \"2\", \"key3\": [3, 3, 3], \"key4\": (4, 4, 4), 'key5': 5, (0, 1): 6, 1.2: 5}\n",
        "#{} :\n",
        "# key1 (키값) --> 1 (정수)\n",
        "# key2 (키값) --> \"2\" (문자열)\n",
        "# key4 (키값) --> (4,4,4) tuple\n",
        "# (0,1) tuple 키값 --> 5 (정수)\n",
        "Dict"
      ],
      "execution_count": 24,
      "outputs": [
        {
          "output_type": "execute_result",
          "data": {
            "text/plain": [
              "{'key1': 1,\n",
              " 'key2': '2',\n",
              " 'key3': [3, 3, 3],\n",
              " 'key4': (4, 4, 4),\n",
              " 'key5': 5,\n",
              " (0, 1): 6,\n",
              " 1.2: 5}"
            ]
          },
          "metadata": {},
          "execution_count": 24
        }
      ]
    },
    {
      "cell_type": "markdown",
      "metadata": {
        "id": "unJ851Na6RGj"
      },
      "source": [
        "The keys can be strings:"
      ]
    },
    {
      "cell_type": "code",
      "metadata": {
        "id": "CDaQ-3GM6RGk",
        "colab": {
          "base_uri": "https://localhost:8080/"
        },
        "outputId": "ead9df9e-03bc-4db4-937f-8aa4b34d31f5"
      },
      "source": [
        "# Access to the value by the key\n",
        "#Dict[1.2]\n",
        "#Dict['key5']\n",
        "#Dict[(0,1)]\n",
        "Dict[\"key3\"]"
      ],
      "execution_count": 25,
      "outputs": [
        {
          "output_type": "execute_result",
          "data": {
            "text/plain": [
              "[3, 3, 3]"
            ]
          },
          "metadata": {},
          "execution_count": 25
        }
      ]
    },
    {
      "cell_type": "code",
      "source": [
        "Dict"
      ],
      "metadata": {
        "colab": {
          "base_uri": "https://localhost:8080/"
        },
        "id": "rwljeh2LTpFg",
        "outputId": "46aefe1f-8204-4bb8-822f-2cadff7dc15e"
      },
      "execution_count": 26,
      "outputs": [
        {
          "output_type": "execute_result",
          "data": {
            "text/plain": [
              "{'key1': 1,\n",
              " 'key2': '2',\n",
              " 'key3': [3, 3, 3],\n",
              " 'key4': (4, 4, 4),\n",
              " 'key5': 5,\n",
              " (0, 1): 6,\n",
              " 1.2: 5}"
            ]
          },
          "metadata": {},
          "execution_count": 26
        }
      ]
    },
    {
      "cell_type": "markdown",
      "metadata": {
        "id": "_kL6zWbJ6RGn"
      },
      "source": [
        "Keys can also be any mutable object such as a LIST:"
      ]
    },
    {
      "cell_type": "code",
      "metadata": {
        "id": "k8gWSyO56RGo",
        "colab": {
          "base_uri": "https://localhost:8080/"
        },
        "outputId": "0533e342-ccc7-409b-ac9a-64f048734e8f"
      },
      "source": [
        "# Access to the value by the key\n",
        "\n",
        "Dict[\"key3\"]=\"TEST\" #다른 값을 넣을 수 있니?\n",
        "Dict"
      ],
      "execution_count": 27,
      "outputs": [
        {
          "output_type": "execute_result",
          "data": {
            "text/plain": [
              "{'key1': 1,\n",
              " 'key2': '2',\n",
              " 'key3': 'TEST',\n",
              " 'key4': (4, 4, 4),\n",
              " 'key5': 5,\n",
              " (0, 1): 6,\n",
              " 1.2: 5}"
            ]
          },
          "metadata": {},
          "execution_count": 27
        }
      ]
    },
    {
      "cell_type": "markdown",
      "metadata": {
        "id": "u_tguCTJ6RGr"
      },
      "source": [
        " Each key is separated from its value by a colon \"<code>:</code>\".  Commas separate the items, and the whole dictionary is enclosed in curly braces. An empty dictionary without any items is written with just two curly braces, like this  \"<code>{}</code>\"."
      ]
    },
    {
      "cell_type": "code",
      "metadata": {
        "id": "b5IWiiOd6RGr",
        "colab": {
          "base_uri": "https://localhost:8080/"
        },
        "outputId": "c423ebe0-bbeb-4f35-cedc-b7f1a458c09e"
      },
      "source": [
        "# Create a sample dictionary\n",
        "\n",
        "release_year_dict = {\"Thriller\": \"1982\", \"Back in Black\": \"1980\", \"The Dark Side of the Moon\": \"1973\", \"The Bodyguard\": \"1992\", \\\n",
        "                    \"Bat Out of Hell\": \"1977\", \"Their Greatest Hits (1971-1975)\": \"1976\", \\\n",
        "                    \"Saturday Night Fever\": \"1977\", \"Rumours\": \"1977\"}\n",
        "release_year_dict"
      ],
      "execution_count": 28,
      "outputs": [
        {
          "output_type": "execute_result",
          "data": {
            "text/plain": [
              "{'Thriller': '1982',\n",
              " 'Back in Black': '1980',\n",
              " 'The Dark Side of the Moon': '1973',\n",
              " 'The Bodyguard': '1992',\n",
              " 'Bat Out of Hell': '1977',\n",
              " 'Their Greatest Hits (1971-1975)': '1976',\n",
              " 'Saturday Night Fever': '1977',\n",
              " 'Rumours': '1977'}"
            ]
          },
          "metadata": {},
          "execution_count": 28
        }
      ]
    },
    {
      "cell_type": "markdown",
      "metadata": {
        "id": "WR-7QzYt6RGu"
      },
      "source": [
        "In summary, like a list, a dictionary holds a sequence of elements. Each element is represented by a key and its corresponding value. Dictionaries are created with two curly braces containing keys and values separated by a colon. For every key, there can only be one single value, however,  multiple keys can hold the same value. Keys can only be strings, numbers, or tuples, but values can be any data type."
      ]
    },
    {
      "cell_type": "markdown",
      "metadata": {
        "id": "g76gUL5I6RGv"
      },
      "source": [
        "It is helpful to visualize the dictionary as a table, as in the following image. The first column represents the keys, the second column represents the values."
      ]
    },
    {
      "cell_type": "markdown",
      "metadata": {
        "id": "IOw_kB946RGv"
      },
      "source": [
        "<img src=\"https://s3-api.us-geo.objectstorage.softlayer.net/cf-courses-data/CognitiveClass/PY0101EN/Chapter%202/Images/DictsStructure.png\" width=\"650\" />"
      ]
    },
    {
      "cell_type": "markdown",
      "metadata": {
        "id": "B_vSUGgq6RGw"
      },
      "source": [
        "<h3 id=\"key\">Keys</h3>"
      ]
    },
    {
      "cell_type": "markdown",
      "metadata": {
        "id": "Y3ZvMUlm6RGx"
      },
      "source": [
        "You can retrieve the values based on the names:"
      ]
    },
    {
      "cell_type": "code",
      "metadata": {
        "id": "E4-G2A5w6RGx",
        "colab": {
          "base_uri": "https://localhost:8080/",
          "height": 35
        },
        "outputId": "359b4835-897c-4dd1-fd27-02eb0dc65c72"
      },
      "source": [
        "# Get value by keys\n",
        "\n",
        "release_year_dict['Their Greatest Hits (1971-1975)']"
      ],
      "execution_count": 29,
      "outputs": [
        {
          "output_type": "execute_result",
          "data": {
            "text/plain": [
              "'1976'"
            ],
            "application/vnd.google.colaboratory.intrinsic+json": {
              "type": "string"
            }
          },
          "metadata": {},
          "execution_count": 29
        }
      ]
    },
    {
      "cell_type": "markdown",
      "metadata": {
        "id": "5Bj10hYP6RG0"
      },
      "source": [
        "This corresponds to:\n"
      ]
    },
    {
      "cell_type": "markdown",
      "metadata": {
        "id": "QmFfLZAs6RG0"
      },
      "source": [
        "<img src=\"https://s3-api.us-geo.objectstorage.softlayer.net/cf-courses-data/CognitiveClass/PY0101EN/Chapter%202/Images/DictsKeyOne.png\" width=\"500\" />"
      ]
    },
    {
      "cell_type": "markdown",
      "metadata": {
        "id": "t9M-Lir76RG1"
      },
      "source": [
        "Similarly for <b>The Bodyguard</b>"
      ]
    },
    {
      "cell_type": "code",
      "metadata": {
        "id": "YE78vmSJ6RG1",
        "colab": {
          "base_uri": "https://localhost:8080/",
          "height": 35
        },
        "outputId": "ff03b649-8b26-4f4b-cf68-2c2337f0704a"
      },
      "source": [
        "# Get value by key\n",
        "\n",
        "release_year_dict['The Bodyguard']"
      ],
      "execution_count": 30,
      "outputs": [
        {
          "output_type": "execute_result",
          "data": {
            "text/plain": [
              "'1992'"
            ],
            "application/vnd.google.colaboratory.intrinsic+json": {
              "type": "string"
            }
          },
          "metadata": {},
          "execution_count": 30
        }
      ]
    },
    {
      "cell_type": "markdown",
      "metadata": {
        "id": "MFnjH6-F6RG4"
      },
      "source": [
        "<img src=\"https://s3-api.us-geo.objectstorage.softlayer.net/cf-courses-data/CognitiveClass/PY0101EN/Chapter%202/Images/DictsKeyTwo.png\" width=\"500\" />"
      ]
    },
    {
      "cell_type": "markdown",
      "metadata": {
        "id": "vf7sSsub6RG5"
      },
      "source": [
        "Now let you retrieve the keys of the dictionary using the method <code>release_year_dict()</code>:"
      ]
    },
    {
      "cell_type": "code",
      "metadata": {
        "id": "Kd4fbrit6RG5",
        "colab": {
          "base_uri": "https://localhost:8080/"
        },
        "outputId": "2f1af400-07c4-4888-be47-b2efc73202ee"
      },
      "source": [
        "# Get all the keys in dictionary\n",
        "\n",
        "release_year_dict.keys()"
      ],
      "execution_count": 31,
      "outputs": [
        {
          "output_type": "execute_result",
          "data": {
            "text/plain": [
              "dict_keys(['Thriller', 'Back in Black', 'The Dark Side of the Moon', 'The Bodyguard', 'Bat Out of Hell', 'Their Greatest Hits (1971-1975)', 'Saturday Night Fever', 'Rumours'])"
            ]
          },
          "metadata": {},
          "execution_count": 31
        }
      ]
    },
    {
      "cell_type": "markdown",
      "metadata": {
        "id": "QxgKANeV6RG9"
      },
      "source": [
        "You can retrieve the values using the method  <code>values()</code>:"
      ]
    },
    {
      "cell_type": "code",
      "metadata": {
        "id": "ugsGIYQb6RG9",
        "colab": {
          "base_uri": "https://localhost:8080/"
        },
        "outputId": "4ac3e969-30fc-4911-b455-994aecf87f3d"
      },
      "source": [
        "# Get all the values in dictionary\n",
        "\n",
        "release_year_dict.values()"
      ],
      "execution_count": 32,
      "outputs": [
        {
          "output_type": "execute_result",
          "data": {
            "text/plain": [
              "dict_values(['1982', '1980', '1973', '1992', '1977', '1976', '1977', '1977'])"
            ]
          },
          "metadata": {},
          "execution_count": 32
        }
      ]
    },
    {
      "cell_type": "markdown",
      "metadata": {
        "id": "83Ke_KvF6RG_"
      },
      "source": [
        "We can add an entry:"
      ]
    },
    {
      "cell_type": "code",
      "metadata": {
        "id": "JEoysNOK6RHA",
        "colab": {
          "base_uri": "https://localhost:8080/"
        },
        "outputId": "fbb985d9-2479-4699-839d-911366f8d025"
      },
      "source": [
        "# Append value with key into dictionary\n",
        "\n",
        "release_year_dict['Graduation'] = '2007'\n",
        "release_year_dict"
      ],
      "execution_count": 33,
      "outputs": [
        {
          "output_type": "execute_result",
          "data": {
            "text/plain": [
              "{'Thriller': '1982',\n",
              " 'Back in Black': '1980',\n",
              " 'The Dark Side of the Moon': '1973',\n",
              " 'The Bodyguard': '1992',\n",
              " 'Bat Out of Hell': '1977',\n",
              " 'Their Greatest Hits (1971-1975)': '1976',\n",
              " 'Saturday Night Fever': '1977',\n",
              " 'Rumours': '1977',\n",
              " 'Graduation': '2007'}"
            ]
          },
          "metadata": {},
          "execution_count": 33
        }
      ]
    },
    {
      "cell_type": "markdown",
      "metadata": {
        "id": "FDxCxPcP6RHC"
      },
      "source": [
        "We can delete an entry:   "
      ]
    },
    {
      "cell_type": "code",
      "metadata": {
        "id": "FjxCqlS66RHD",
        "colab": {
          "base_uri": "https://localhost:8080/"
        },
        "outputId": "e3d14dc7-35a7-449e-bc5a-bace2a7c6459"
      },
      "source": [
        "# Delete entries by key\n",
        "\n",
        "del(release_year_dict['Thriller'])\n",
        "del(release_year_dict['Graduation'])\n",
        "release_year_dict"
      ],
      "execution_count": 34,
      "outputs": [
        {
          "output_type": "execute_result",
          "data": {
            "text/plain": [
              "{'Back in Black': '1980',\n",
              " 'The Dark Side of the Moon': '1973',\n",
              " 'The Bodyguard': '1992',\n",
              " 'Bat Out of Hell': '1977',\n",
              " 'Their Greatest Hits (1971-1975)': '1976',\n",
              " 'Saturday Night Fever': '1977',\n",
              " 'Rumours': '1977'}"
            ]
          },
          "metadata": {},
          "execution_count": 34
        }
      ]
    },
    {
      "cell_type": "markdown",
      "metadata": {
        "id": "LUKuGXkX6RHH"
      },
      "source": [
        " We can verify if an element is in the dictionary:"
      ]
    },
    {
      "cell_type": "code",
      "metadata": {
        "id": "wzMf1tuvDUZR",
        "colab": {
          "base_uri": "https://localhost:8080/"
        },
        "outputId": "674a6c6c-fd2a-48dc-bf40-2bfd04f199f2"
      },
      "source": [
        "'Thriller' in release_year_dict"
      ],
      "execution_count": 35,
      "outputs": [
        {
          "output_type": "execute_result",
          "data": {
            "text/plain": [
              "False"
            ]
          },
          "metadata": {},
          "execution_count": 35
        }
      ]
    },
    {
      "cell_type": "code",
      "metadata": {
        "id": "ArLBiQVHDXbq"
      },
      "source": [
        "del(release_year_dict['Rumours'])"
      ],
      "execution_count": 36,
      "outputs": []
    },
    {
      "cell_type": "code",
      "metadata": {
        "id": "SRcf8WZ9DzG5",
        "colab": {
          "base_uri": "https://localhost:8080/"
        },
        "outputId": "972c17e2-7266-4ef9-a65c-478dc89bf1bc"
      },
      "source": [
        "'Rumours' in release_year_dict"
      ],
      "execution_count": 37,
      "outputs": [
        {
          "output_type": "execute_result",
          "data": {
            "text/plain": [
              "False"
            ]
          },
          "metadata": {},
          "execution_count": 37
        }
      ]
    },
    {
      "cell_type": "code",
      "source": [
        "'The Bodyguard' in release_year_dict"
      ],
      "metadata": {
        "colab": {
          "base_uri": "https://localhost:8080/"
        },
        "id": "b916NselvpG8",
        "outputId": "155660bb-fad1-4519-b9bb-34614a548b10"
      },
      "execution_count": 38,
      "outputs": [
        {
          "output_type": "execute_result",
          "data": {
            "text/plain": [
              "True"
            ]
          },
          "metadata": {},
          "execution_count": 38
        }
      ]
    },
    {
      "cell_type": "markdown",
      "metadata": {
        "id": "RzYM4ZiU6RHL"
      },
      "source": [
        "<h2 id=\"quiz\">Quiz on Dictionaries</h2>"
      ]
    },
    {
      "cell_type": "markdown",
      "metadata": {
        "id": "xtz9QnSv6RHL"
      },
      "source": [
        "<b>You will need this dictionary for the next two questions:</b>"
      ]
    },
    {
      "cell_type": "code",
      "metadata": {
        "id": "KzchPkGo6RHM",
        "outputId": "a2a32438-e41e-495b-d4fe-a6d4bf067930",
        "colab": {
          "base_uri": "https://localhost:8080/"
        }
      },
      "source": [
        "# Question sample dictionary\n",
        "\n",
        "soundtrack_dic = {\"The Bodyguard\":\"1992\", \"Saturday Night Fever\":\"1977\"}\n",
        "soundtrack_dic"
      ],
      "execution_count": 39,
      "outputs": [
        {
          "output_type": "execute_result",
          "data": {
            "text/plain": [
              "{'The Bodyguard': '1992', 'Saturday Night Fever': '1977'}"
            ]
          },
          "metadata": {},
          "execution_count": 39
        }
      ]
    },
    {
      "cell_type": "markdown",
      "metadata": {
        "id": "LCWMQ6E16RHP"
      },
      "source": [
        "a) In the dictionary <code>soundtrack_dict</code> what are the keys ?"
      ]
    },
    {
      "cell_type": "code",
      "metadata": {
        "id": "7KqlVIvg6RHP",
        "outputId": "e9874410-e176-428f-8324-2fa0c3168b18",
        "colab": {
          "base_uri": "https://localhost:8080/"
        }
      },
      "source": [
        "# Write your code below and press Shift+Enter to execute\n",
        "soundtrack_dic.keys()"
      ],
      "execution_count": 40,
      "outputs": [
        {
          "output_type": "execute_result",
          "data": {
            "text/plain": [
              "dict_keys(['The Bodyguard', 'Saturday Night Fever'])"
            ]
          },
          "metadata": {},
          "execution_count": 40
        }
      ]
    },
    {
      "cell_type": "markdown",
      "metadata": {
        "id": "NF3HezrY6RHS"
      },
      "source": [
        "Double-click __here__ for the solution.\n",
        "\n",
        "<!-- Your answer is below:\n",
        "soundtrack_dic.keys() # The Keys \"The Bodyguard\" and \"Saturday Night Fever\"\n",
        "-->"
      ]
    },
    {
      "cell_type": "markdown",
      "metadata": {
        "id": "maFtCOSM6RHS"
      },
      "source": [
        "b) In the dictionary <code>soundtrack_dict</code> what are the values ?"
      ]
    },
    {
      "cell_type": "code",
      "metadata": {
        "id": "Nu1mO5716RHT",
        "outputId": "e3b83318-b92d-4bbe-9a8d-8369e32190d3",
        "colab": {
          "base_uri": "https://localhost:8080/"
        }
      },
      "source": [
        "# Write your code below and press Shift+Enter to execute\n",
        "soundtrack_dic.values()"
      ],
      "execution_count": 41,
      "outputs": [
        {
          "output_type": "execute_result",
          "data": {
            "text/plain": [
              "dict_values(['1992', '1977'])"
            ]
          },
          "metadata": {},
          "execution_count": 41
        }
      ]
    },
    {
      "cell_type": "markdown",
      "metadata": {
        "id": "EDAC5YoP6RHV"
      },
      "source": [
        "Double-click __here__ for the solution.\n",
        "\n",
        "<!-- Your answer is below:\n",
        "soundtrack_dic.values() # The values are \"1992\" and \"1977\"\n",
        "-->"
      ]
    },
    {
      "cell_type": "markdown",
      "metadata": {
        "id": "CoLnLqw96RHV"
      },
      "source": [
        "<hr>"
      ]
    },
    {
      "cell_type": "markdown",
      "metadata": {
        "id": "ALktjwXY6RHW"
      },
      "source": [
        "<b>You will need this dictionary for the following questions:</b>"
      ]
    },
    {
      "cell_type": "markdown",
      "metadata": {
        "id": "5zE0yAqR6RHW"
      },
      "source": [
        "The Albums <b>Back in Black</b>, <b>The Bodyguard</b> and <b>Thriller</b> have the following music recording sales in millions 50, 50 and 65 respectively:"
      ]
    },
    {
      "cell_type": "markdown",
      "metadata": {
        "id": "5nWxYu8e6RHX"
      },
      "source": [
        "a) Create a dictionary <code>album_sales_dict</code> where the keys are the album name and the sales in millions are the values."
      ]
    },
    {
      "cell_type": "code",
      "metadata": {
        "id": "M2OZ0Enk6RHX"
      },
      "source": [
        "# Write your code below and press Shift+Enter to execute\n",
        "album_sales_dict = {\"Back in Black\":50, \"Bodyguard\":50, \"Thriller\":65}"
      ],
      "execution_count": 42,
      "outputs": []
    },
    {
      "cell_type": "markdown",
      "metadata": {
        "id": "kl4QRou66RHa"
      },
      "source": [
        "Double-click __here__ for the solution.\n",
        "\n",
        "<!-- Your answer is below:\n",
        "album_sales_dict = {\"The Bodyguard\":50, \"Back in Black\":50, \"Thriller\":65}\n",
        "-->"
      ]
    },
    {
      "cell_type": "markdown",
      "metadata": {
        "id": "dRM8r4is6RHa"
      },
      "source": [
        "b) Use the dictionary to find the total sales of <b>Thriller</b>:"
      ]
    },
    {
      "cell_type": "code",
      "metadata": {
        "id": "ttTaU0n46RHb",
        "colab": {
          "base_uri": "https://localhost:8080/"
        },
        "outputId": "78a6368e-2025-4eb0-9593-113b09e60fdb"
      },
      "source": [
        "# Write your code below and press Shift+Enter to execute\n",
        "album_sales_dict['Thriller']"
      ],
      "execution_count": 43,
      "outputs": [
        {
          "output_type": "execute_result",
          "data": {
            "text/plain": [
              "65"
            ]
          },
          "metadata": {},
          "execution_count": 43
        }
      ]
    },
    {
      "cell_type": "markdown",
      "metadata": {
        "id": "DNca00Cs6RHe"
      },
      "source": [
        "Double-click __here__ for the solution.\n",
        "\n",
        "<!-- Your answer is below:\n",
        "album_sales_dict[\"Thriller\"]\n",
        "-->"
      ]
    },
    {
      "cell_type": "markdown",
      "metadata": {
        "id": "Zu7n-OVY6RHe"
      },
      "source": [
        "c) Find the names of the albums from the dictionary using the method <code>keys</code>:"
      ]
    },
    {
      "cell_type": "code",
      "metadata": {
        "id": "sT0kk4xM6RHe",
        "colab": {
          "base_uri": "https://localhost:8080/"
        },
        "outputId": "f8ae75da-8a46-4af0-dc89-2e63d00bfa1f"
      },
      "source": [
        "# Write your code below and press Shift+Enter to execute\n",
        "album_sales_dict.keys()"
      ],
      "execution_count": 44,
      "outputs": [
        {
          "output_type": "execute_result",
          "data": {
            "text/plain": [
              "dict_keys(['Back in Black', 'Bodyguard', 'Thriller'])"
            ]
          },
          "metadata": {},
          "execution_count": 44
        }
      ]
    },
    {
      "cell_type": "markdown",
      "metadata": {
        "id": "9EMueaCB6RHh"
      },
      "source": [
        "Double-click __here__ for the solution.\n",
        "\n",
        "<!-- Your answer is below:\n",
        "album_sales_dict.keys()\n",
        "-->"
      ]
    },
    {
      "cell_type": "markdown",
      "metadata": {
        "id": "ilWlLm636RHh"
      },
      "source": [
        "d) Find the names of the recording sales from the dictionary using the method <code>values</code>:"
      ]
    },
    {
      "cell_type": "code",
      "metadata": {
        "id": "MXLMCgLe6RHi",
        "colab": {
          "base_uri": "https://localhost:8080/"
        },
        "outputId": "fafc3c34-c9bb-444c-be1f-e371d49d497b"
      },
      "source": [
        "# Write your code below and press Shift+Enter to execute\n",
        "album_sales_dict.values()"
      ],
      "execution_count": 45,
      "outputs": [
        {
          "output_type": "execute_result",
          "data": {
            "text/plain": [
              "dict_values([50, 50, 65])"
            ]
          },
          "metadata": {},
          "execution_count": 45
        }
      ]
    },
    {
      "cell_type": "markdown",
      "metadata": {
        "id": "FJiFdfRX6RHk"
      },
      "source": [
        "Double-click __here__ for the solution.\n",
        "\n",
        "<!-- Your answer is below:\n",
        "album_sales_dict.values()\n",
        "-->"
      ]
    },
    {
      "cell_type": "markdown",
      "metadata": {
        "id": "7zLWiQUm6RHk"
      },
      "source": [
        "<hr>\n",
        "<h2>The last exercise!</h2>\n",
        "<p>Congratulations, you have completed your first lesson and hands-on lab in Python. However, there is one more thing you need to do. The Data Science community encourages sharing work. The best way to share and showcase your work is to share it on GitHub. By sharing your notebook on GitHub you are not only building your reputation with fellow data scientists, but you can also show it off when applying for a job. Even though this was your first piece of work, it is never too early to start building good habits. Please submit all your exercises to Github & let the traces in our LMS, so for me to access your work."
      ]
    },
    {
      "cell_type": "markdown",
      "metadata": {
        "id": "oOnq2wZa6RHm"
      },
      "source": [
        "<hr>"
      ]
    },
    {
      "cell_type": "markdown",
      "metadata": {
        "id": "n8faMU4U6RHm"
      },
      "source": [
        "<p>Copyright &copy; 2023 RYU HOKYOUNG based on 2018 IBM Developer Skills Network. This notebook and its source code are released under the terms of the <a href=\"https://cognitiveclass.ai/mit-license/\">MIT License</a>.</p>"
      ]
    }
  ]
}