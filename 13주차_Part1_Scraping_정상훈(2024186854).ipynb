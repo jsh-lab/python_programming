{
  "nbformat": 4,
  "nbformat_minor": 0,
  "metadata": {
    "colab": {
      "provenance": [],
      "authorship_tag": "ABX9TyPYX9tHRfcgrtF/cPLYf685",
      "include_colab_link": true
    },
    "kernelspec": {
      "name": "python3",
      "display_name": "Python 3"
    },
    "language_info": {
      "name": "python"
    }
  },
  "cells": [
    {
      "cell_type": "markdown",
      "metadata": {
        "id": "view-in-github",
        "colab_type": "text"
      },
      "source": [
        "<a href=\"https://colab.research.google.com/github/jsh-lab/python_programming/blob/main/13%EC%A3%BC%EC%B0%A8_Part1_Scraping_%EC%A0%95%EC%83%81%ED%9B%88(2024186854).ipynb\" target=\"_parent\"><img src=\"https://colab.research.google.com/assets/colab-badge.svg\" alt=\"Open In Colab\"/></a>"
      ]
    },
    {
      "cell_type": "code",
      "execution_count": 1,
      "metadata": {
        "id": "_MRmzpeTrJ8k"
      },
      "outputs": [],
      "source": [
        "import xml.etree.ElementTree as et"
      ]
    },
    {
      "cell_type": "code",
      "source": [
        "tree = et.ElementTree(file='menu.xml')"
      ],
      "metadata": {
        "id": "F3VHeL5Yr9hI"
      },
      "execution_count": 2,
      "outputs": []
    },
    {
      "cell_type": "code",
      "source": [
        "root = tree.getroot()"
      ],
      "metadata": {
        "id": "rBlHl_5nsCbg"
      },
      "execution_count": 3,
      "outputs": []
    },
    {
      "cell_type": "code",
      "source": [
        "print(root.tag)"
      ],
      "metadata": {
        "colab": {
          "base_uri": "https://localhost:8080/"
        },
        "id": "roHIDiMwsEO0",
        "outputId": "a4e1924d-be93-46bf-edfe-16faee598565"
      },
      "execution_count": 4,
      "outputs": [
        {
          "output_type": "stream",
          "name": "stdout",
          "text": [
            "menu\n"
          ]
        }
      ]
    },
    {
      "cell_type": "code",
      "source": [
        "type(root)"
      ],
      "metadata": {
        "colab": {
          "base_uri": "https://localhost:8080/"
        },
        "id": "8geiIvMXsFkB",
        "outputId": "3c2b7c56-c29b-40d1-a4e3-f4d8e7f2bc57"
      },
      "execution_count": 5,
      "outputs": [
        {
          "output_type": "execute_result",
          "data": {
            "text/plain": [
              "xml.etree.ElementTree.Element"
            ]
          },
          "metadata": {},
          "execution_count": 5
        }
      ]
    },
    {
      "cell_type": "code",
      "source": [
        "for child in root:\n",
        "    print('tag:' , child.tag, 'attributes:', child.attrib)\n",
        "    for grandchild in child:\n",
        "        print('\\ttag:', grandchild.tag, 'attributes:', grandchild.attrib)"
      ],
      "metadata": {
        "colab": {
          "base_uri": "https://localhost:8080/"
        },
        "id": "F5AEB11UsHjb",
        "outputId": "674d1d2d-f0ff-4b87-c072-de36db7bc581"
      },
      "execution_count": 6,
      "outputs": [
        {
          "output_type": "stream",
          "name": "stdout",
          "text": [
            "tag: breakfast attributes: {'hours': '7-11'}\n",
            "\ttag: item attributes: {'price': '$6.00'}\n",
            "\ttag: item attributes: {'price': '$4.00'}\n",
            "tag: lunch attributes: {'hours': '11-3'}\n",
            "\ttag: item attributes: {'price': '$5.00'}\n",
            "tag: dinner attributes: {'hours': '3-10'}\n",
            "\ttag: item attributes: {'price': '8.00'}\n"
          ]
        }
      ]
    },
    {
      "cell_type": "code",
      "source": [
        "len(root)"
      ],
      "metadata": {
        "colab": {
          "base_uri": "https://localhost:8080/"
        },
        "id": "umW2SyovsgBv",
        "outputId": "8dce1b0f-db1f-49c7-cdee-362c221b9b01"
      },
      "execution_count": 7,
      "outputs": [
        {
          "output_type": "execute_result",
          "data": {
            "text/plain": [
              "3"
            ]
          },
          "metadata": {},
          "execution_count": 7
        }
      ]
    },
    {
      "cell_type": "code",
      "source": [
        "len(root[0])"
      ],
      "metadata": {
        "colab": {
          "base_uri": "https://localhost:8080/"
        },
        "id": "zA9SqmxKskB8",
        "outputId": "6c97da45-cd7b-4325-f3f4-bdc1b75bc81a"
      },
      "execution_count": 8,
      "outputs": [
        {
          "output_type": "execute_result",
          "data": {
            "text/plain": [
              "2"
            ]
          },
          "metadata": {},
          "execution_count": 8
        }
      ]
    },
    {
      "cell_type": "code",
      "source": [
        "type(root[0])"
      ],
      "metadata": {
        "colab": {
          "base_uri": "https://localhost:8080/"
        },
        "id": "jwgL3vt3slLC",
        "outputId": "64d9f13e-5f3c-4c1e-cf29-f19335470283"
      },
      "execution_count": 9,
      "outputs": [
        {
          "output_type": "execute_result",
          "data": {
            "text/plain": [
              "xml.etree.ElementTree.Element"
            ]
          },
          "metadata": {},
          "execution_count": 9
        }
      ]
    },
    {
      "cell_type": "code",
      "source": [
        "print(root[0])\n",
        "print(root[0].get(\"hours\"))\n",
        "print(root[0].keys())\n",
        "print(root[0].items())"
      ],
      "metadata": {
        "colab": {
          "base_uri": "https://localhost:8080/"
        },
        "id": "jk6P5y8ssn-y",
        "outputId": "21f8600f-fe94-4bf1-88b7-2dcba99d4ea7"
      },
      "execution_count": 11,
      "outputs": [
        {
          "output_type": "stream",
          "name": "stdout",
          "text": [
            "<Element 'breakfast' at 0x7b628f360e50>\n",
            "7-11\n",
            "['hours']\n",
            "[('hours', '7-11')]\n"
          ]
        }
      ]
    },
    {
      "cell_type": "code",
      "source": [
        "lunch = root.find(\"lunch\")\n",
        "print(lunch)\n",
        "print(lunch.get(\"hours\"))\n",
        "print(lunch.keys())\n",
        "print(lunch.items())"
      ],
      "metadata": {
        "colab": {
          "base_uri": "https://localhost:8080/"
        },
        "id": "S3BGKGzjszeN",
        "outputId": "dc8c7ef9-6712-4b09-c69b-15b3939ddec9"
      },
      "execution_count": 12,
      "outputs": [
        {
          "output_type": "stream",
          "name": "stdout",
          "text": [
            "<Element 'lunch' at 0x7b628f3b0540>\n",
            "11-3\n",
            "['hours']\n",
            "[('hours', '11-3')]\n"
          ]
        }
      ]
    },
    {
      "cell_type": "code",
      "source": [
        "print(root[0].findall('item'))\n",
        "for item in root[0].findall('item'):\n",
        "    print(item.get('price'))\n",
        "    print(item.text)"
      ],
      "metadata": {
        "colab": {
          "base_uri": "https://localhost:8080/"
        },
        "id": "eHEXNN-ktC7S",
        "outputId": "8b6193c5-a972-4c8b-f34b-2707991a17c3"
      },
      "execution_count": 14,
      "outputs": [
        {
          "output_type": "stream",
          "name": "stdout",
          "text": [
            "[<Element 'item' at 0x7b628f363ec0>, <Element 'item' at 0x7b628f3b0630>]\n",
            "$6.00\n",
            "breakfast burritos\n",
            "$4.00\n",
            "pancakes\n"
          ]
        }
      ]
    },
    {
      "cell_type": "code",
      "source": [
        "import json"
      ],
      "metadata": {
        "id": "ryfSdQrytHik"
      },
      "execution_count": 15,
      "outputs": []
    },
    {
      "cell_type": "code",
      "source": [
        "j1 = {\"name\":\"홍길동\", \"birth\":\"0525\", \"age\":30}\n",
        "j1"
      ],
      "metadata": {
        "colab": {
          "base_uri": "https://localhost:8080/"
        },
        "id": "Ic0DAxPLtYaX",
        "outputId": "a621a95b-d852-4837-a75b-398fa8a34a9f"
      },
      "execution_count": 16,
      "outputs": [
        {
          "output_type": "execute_result",
          "data": {
            "text/plain": [
              "{'name': '홍길동', 'birth': '0525', 'age': 30}"
            ]
          },
          "metadata": {},
          "execution_count": 16
        }
      ]
    },
    {
      "cell_type": "code",
      "source": [
        "json.dumps(j1)"
      ],
      "metadata": {
        "colab": {
          "base_uri": "https://localhost:8080/",
          "height": 35
        },
        "id": "9HJtXAzSteVU",
        "outputId": "1a5655bf-6f73-4b46-ec96-4d76a0535324"
      },
      "execution_count": 18,
      "outputs": [
        {
          "output_type": "execute_result",
          "data": {
            "text/plain": [
              "'{\"name\": \"\\\\ud64d\\\\uae38\\\\ub3d9\", \"birth\": \"0525\", \"age\": 30}'"
            ],
            "application/vnd.google.colaboratory.intrinsic+json": {
              "type": "string"
            }
          },
          "metadata": {},
          "execution_count": 18
        }
      ]
    },
    {
      "cell_type": "code",
      "source": [
        "print(json.dumps(j1, indent=2))"
      ],
      "metadata": {
        "colab": {
          "base_uri": "https://localhost:8080/"
        },
        "id": "--VIOXjctf0y",
        "outputId": "87dbd344-3f24-4f97-faf7-d9ea18164298"
      },
      "execution_count": 19,
      "outputs": [
        {
          "output_type": "stream",
          "name": "stdout",
          "text": [
            "{\n",
            "  \"name\": \"\\ud64d\\uae38\\ub3d9\",\n",
            "  \"birth\": \"0525\",\n",
            "  \"age\": 30\n",
            "}\n"
          ]
        }
      ]
    },
    {
      "cell_type": "code",
      "source": [
        "json.dumps([1,2,3])"
      ],
      "metadata": {
        "colab": {
          "base_uri": "https://localhost:8080/",
          "height": 35
        },
        "id": "Fjqv3KOztn-R",
        "outputId": "fa2cf313-5ea0-4233-b1b4-04ecbe141986"
      },
      "execution_count": 20,
      "outputs": [
        {
          "output_type": "execute_result",
          "data": {
            "text/plain": [
              "'[1, 2, 3]'"
            ],
            "application/vnd.google.colaboratory.intrinsic+json": {
              "type": "string"
            }
          },
          "metadata": {},
          "execution_count": 20
        }
      ]
    },
    {
      "cell_type": "code",
      "source": [
        "json.dumps((4,5,6))"
      ],
      "metadata": {
        "colab": {
          "base_uri": "https://localhost:8080/",
          "height": 35
        },
        "id": "VUngPn9ptqyl",
        "outputId": "2979ad77-e04c-4d4c-a4ce-a6fc707918e0"
      },
      "execution_count": 21,
      "outputs": [
        {
          "output_type": "execute_result",
          "data": {
            "text/plain": [
              "'[4, 5, 6]'"
            ],
            "application/vnd.google.colaboratory.intrinsic+json": {
              "type": "string"
            }
          },
          "metadata": {},
          "execution_count": 21
        }
      ]
    },
    {
      "cell_type": "code",
      "source": [
        "j1 = {\"name\":\"홍길동\", \"birth\":\"0525\", \"age\":30}\n",
        "d1 = json.dumps(j1)\n",
        "json.loads(d1)"
      ],
      "metadata": {
        "colab": {
          "base_uri": "https://localhost:8080/"
        },
        "id": "L6-fu_edts4V",
        "outputId": "ca6b1582-d39c-4e28-8824-1f56d164c562"
      },
      "execution_count": 22,
      "outputs": [
        {
          "output_type": "execute_result",
          "data": {
            "text/plain": [
              "{'name': '홍길동', 'birth': '0525', 'age': 30}"
            ]
          },
          "metadata": {},
          "execution_count": 22
        }
      ]
    },
    {
      "cell_type": "code",
      "source": [
        "with open('myinfo.json') as f:\n",
        "    data = json.load(f)\n",
        "\n",
        "print(type(data))\n",
        "print(data)"
      ],
      "metadata": {
        "colab": {
          "base_uri": "https://localhost:8080/"
        },
        "id": "tzbJMd7Utz1Q",
        "outputId": "7b748c68-3ca7-4e81-bd82-3b1e514cb678"
      },
      "execution_count": 23,
      "outputs": [
        {
          "output_type": "stream",
          "name": "stdout",
          "text": [
            "<class 'dict'>\n",
            "{'name': '홍길동', 'birth': '0525', 'age': 30}\n"
          ]
        }
      ]
    },
    {
      "cell_type": "code",
      "source": [
        "from urllib.request import urlopen\n",
        "html = urlopen(\"http://pythonscraping.com/pages/page1.html\")\n",
        "print(html.read())"
      ],
      "metadata": {
        "colab": {
          "base_uri": "https://localhost:8080/"
        },
        "id": "5yQh8y3kv01D",
        "outputId": "138e9942-29c3-43b8-82fa-39e60e73437b"
      },
      "execution_count": 24,
      "outputs": [
        {
          "output_type": "stream",
          "name": "stdout",
          "text": [
            "b'<html>\\n<head>\\n<title>A Useful Page</title>\\n</head>\\n<body>\\n<h1>An Interesting Title</h1>\\n<div>\\nLorem ipsum dolor sit amet, consectetur adipisicing elit, sed do eiusmod tempor incididunt ut labore et dolore magna aliqua. Ut enim ad minim veniam, quis nostrud exercitation ullamco laboris nisi ut aliquip ex ea commodo consequat. Duis aute irure dolor in reprehenderit in voluptate velit esse cillum dolore eu fugiat nulla pariatur. Excepteur sint occaecat cupidatat non proident, sunt in culpa qui officia deserunt mollit anim id est laborum.\\n</div>\\n</body>\\n</html>\\n'\n"
          ]
        }
      ]
    },
    {
      "cell_type": "code",
      "source": [
        "pip install bs4"
      ],
      "metadata": {
        "colab": {
          "base_uri": "https://localhost:8080/"
        },
        "id": "K_BTHPcEwBOg",
        "outputId": "50789c37-77bd-4fc6-f7d8-d74b4c360446"
      },
      "execution_count": 25,
      "outputs": [
        {
          "output_type": "stream",
          "name": "stdout",
          "text": [
            "Collecting bs4\n",
            "  Downloading bs4-0.0.2-py2.py3-none-any.whl.metadata (411 bytes)\n",
            "Requirement already satisfied: beautifulsoup4 in /usr/local/lib/python3.11/dist-packages (from bs4) (4.13.4)\n",
            "Requirement already satisfied: soupsieve>1.2 in /usr/local/lib/python3.11/dist-packages (from beautifulsoup4->bs4) (2.7)\n",
            "Requirement already satisfied: typing-extensions>=4.0.0 in /usr/local/lib/python3.11/dist-packages (from beautifulsoup4->bs4) (4.13.2)\n",
            "Downloading bs4-0.0.2-py2.py3-none-any.whl (1.2 kB)\n",
            "Installing collected packages: bs4\n",
            "Successfully installed bs4-0.0.2\n"
          ]
        }
      ]
    },
    {
      "cell_type": "code",
      "source": [
        "from bs4 import BeautifulSoup\n",
        "html = urlopen(\"http://pythonscraping.com/pages/page1.html\")\n",
        "bsObj = BeautifulSoup(html.read(), \"html.parser\")\n",
        "print(bsObj.h1)"
      ],
      "metadata": {
        "colab": {
          "base_uri": "https://localhost:8080/"
        },
        "id": "DP8apxnkwRVh",
        "outputId": "c01806c8-cc60-4fa2-ce75-eeaaced2183b"
      },
      "execution_count": 26,
      "outputs": [
        {
          "output_type": "stream",
          "name": "stdout",
          "text": [
            "<h1>An Interesting Title</h1>\n"
          ]
        }
      ]
    },
    {
      "cell_type": "code",
      "source": [
        "print(bsObj.html.prettify())"
      ],
      "metadata": {
        "colab": {
          "base_uri": "https://localhost:8080/"
        },
        "id": "mYrhgVF_wmHj",
        "outputId": "6db91ee8-ba2b-47bc-8443-4271fdb340b3"
      },
      "execution_count": 28,
      "outputs": [
        {
          "output_type": "stream",
          "name": "stdout",
          "text": [
            "<html>\n",
            " <head>\n",
            "  <title>\n",
            "   A Useful Page\n",
            "  </title>\n",
            " </head>\n",
            " <body>\n",
            "  <h1>\n",
            "   An Interesting Title\n",
            "  </h1>\n",
            "  <div>\n",
            "   Lorem ipsum dolor sit amet, consectetur adipisicing elit, sed do eiusmod tempor incididunt ut labore et dolore magna aliqua. Ut enim ad minim veniam, quis nostrud exercitation ullamco laboris nisi ut aliquip ex ea commodo consequat. Duis aute irure dolor in reprehenderit in voluptate velit esse cillum dolore eu fugiat nulla pariatur. Excepteur sint occaecat cupidatat non proident, sunt in culpa qui officia deserunt mollit anim id est laborum.\n",
            "  </div>\n",
            " </body>\n",
            "</html>\n",
            "\n"
          ]
        }
      ]
    },
    {
      "cell_type": "code",
      "source": [],
      "metadata": {
        "id": "jf1FVCRcwxir"
      },
      "execution_count": null,
      "outputs": []
    }
  ]
}