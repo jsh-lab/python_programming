{
  "nbformat": 4,
  "nbformat_minor": 0,
  "metadata": {
    "colab": {
      "provenance": [],
      "authorship_tag": "ABX9TyPsQVqp9AHz70y7eBOaR8pe",
      "include_colab_link": true
    },
    "kernelspec": {
      "name": "python3",
      "display_name": "Python 3"
    },
    "language_info": {
      "name": "python"
    }
  },
  "cells": [
    {
      "cell_type": "markdown",
      "metadata": {
        "id": "view-in-github",
        "colab_type": "text"
      },
      "source": [
        "<a href=\"https://colab.research.google.com/github/jsh-lab/python_programming/blob/main/10%EC%A3%BC%EC%B0%A8_class_%EC%A0%95%EC%83%81%ED%9B%88(2024186854).ipynb\" target=\"_parent\"><img src=\"https://colab.research.google.com/assets/colab-badge.svg\" alt=\"Open In Colab\"/></a>"
      ]
    },
    {
      "cell_type": "code",
      "execution_count": 1,
      "metadata": {
        "id": "Hs25Wv1iwz17"
      },
      "outputs": [],
      "source": []
    },
    {
      "cell_type": "code",
      "source": [
        "result = 0\n",
        "\n",
        "def adder(num):\n",
        "    global result\n",
        "    result += num\n",
        "    return result\n",
        "\n",
        "print(adder(3))\n",
        "print(adder(4))\n",
        "print(adder(5))"
      ],
      "metadata": {
        "colab": {
          "base_uri": "https://localhost:8080/"
        },
        "id": "q0AdTMVHxaIi",
        "outputId": "a5ec261b-9692-4cb3-8de1-3034da8d44c0"
      },
      "execution_count": 12,
      "outputs": [
        {
          "output_type": "stream",
          "name": "stdout",
          "text": [
            "3\n",
            "7\n",
            "12\n"
          ]
        }
      ]
    },
    {
      "cell_type": "code",
      "source": [
        "result1 = 0\n",
        "result2 = 0\n",
        "\n",
        "def adder1(num):\n",
        "    global result1\n",
        "    result1 += num\n",
        "    return result1\n",
        "\n",
        "def adder2(num):\n",
        "    global result2\n",
        "    result2 += num\n",
        "    return result2\n",
        "\n",
        "print(adder1(3))\n",
        "print(adder1(4))\n",
        "print(adder2(3))\n",
        "print(adder2(7))"
      ],
      "metadata": {
        "colab": {
          "base_uri": "https://localhost:8080/"
        },
        "id": "SFQpHn-11Kmi",
        "outputId": "ea25899a-38a9-4c2b-aa61-96b0be319108"
      },
      "execution_count": 16,
      "outputs": [
        {
          "output_type": "stream",
          "name": "stdout",
          "text": [
            "3\n",
            "7\n",
            "3\n",
            "10\n"
          ]
        }
      ]
    },
    {
      "cell_type": "code",
      "source": [
        "class Calculator:\n",
        "    def __init__(self):\n",
        "        self.result = 0\n",
        "\n",
        "    def adder(self, num):\n",
        "        self.result += num\n",
        "        return self.result\n",
        "\n",
        "cal1 = Calculator()\n",
        "cal2 = Calculator()\n",
        "\n",
        "print(cal1.adder(3))\n",
        "print(cal1.adder(4))\n",
        "print(cal2.adder(3))\n",
        "print(cal2.adder(7))"
      ],
      "metadata": {
        "colab": {
          "base_uri": "https://localhost:8080/"
        },
        "id": "GCNc6klo1deP",
        "outputId": "2bf070d8-5bac-4f61-8be2-88b133610b29"
      },
      "execution_count": 17,
      "outputs": [
        {
          "output_type": "stream",
          "name": "stdout",
          "text": [
            "3\n",
            "7\n",
            "3\n",
            "10\n"
          ]
        }
      ]
    },
    {
      "cell_type": "code",
      "source": [
        "class Service:\n",
        "    secret = \"지구는 4006년에 멸망한다.\"\n",
        "\n",
        "an = Service()\n",
        "\n",
        "an.secret"
      ],
      "metadata": {
        "colab": {
          "base_uri": "https://localhost:8080/",
          "height": 35
        },
        "id": "17Osaymm114t",
        "outputId": "47d512fc-1d46-48dc-9445-198962f50a91"
      },
      "execution_count": 18,
      "outputs": [
        {
          "output_type": "execute_result",
          "data": {
            "text/plain": [
              "'지구는 4006년에 멸망한다.'"
            ],
            "application/vnd.google.colaboratory.intrinsic+json": {
              "type": "string"
            }
          },
          "metadata": {},
          "execution_count": 18
        }
      ]
    },
    {
      "cell_type": "code",
      "source": [
        "Service.secret = '지구가 4006년에 멸망한다는 사실은 뻥이다.'\n",
        "\n",
        "print(an.secret)"
      ],
      "metadata": {
        "colab": {
          "base_uri": "https://localhost:8080/"
        },
        "id": "r8-AzbJ02DER",
        "outputId": "c791a817-d89a-48bd-fa01-e6d461039ad2"
      },
      "execution_count": 19,
      "outputs": [
        {
          "output_type": "stream",
          "name": "stdout",
          "text": [
            "지구가 4006년에 멸망한다는 사실은 뻥이다.\n"
          ]
        }
      ]
    },
    {
      "cell_type": "code",
      "source": [
        "class Service:\n",
        "    secret = \"지구는 4006년에 멸망한다.\"\n",
        "    def sum(self, a, b):\n",
        "        result = a+b\n",
        "        print(\"%s + %s = %s 이다.\" % (a, b, result))"
      ],
      "metadata": {
        "id": "fc9unTv62Ldu"
      },
      "execution_count": 20,
      "outputs": []
    },
    {
      "cell_type": "code",
      "source": [
        "an = Service()\n",
        "an.sum(1,1)"
      ],
      "metadata": {
        "colab": {
          "base_uri": "https://localhost:8080/"
        },
        "id": "OIYBR1Lv2Z7L",
        "outputId": "17bb3f53-7d79-4300-e6b2-449c3afa24e4"
      },
      "execution_count": 21,
      "outputs": [
        {
          "output_type": "stream",
          "name": "stdout",
          "text": [
            "1 + 1 = 2 이다.\n"
          ]
        }
      ]
    },
    {
      "cell_type": "code",
      "source": [
        "class Service:\n",
        "    secret = \"지구는 4006년에 멸망한다.\"\n",
        "    def setname(self, name):\n",
        "        self.name = name\n",
        "    def sum(self, a, b):\n",
        "        result = a+b\n",
        "        print(\"%s님, %s + %s = %s 입니다.\" % (self.name, a, b, result))"
      ],
      "metadata": {
        "id": "HRBGMGqJ2csk"
      },
      "execution_count": 26,
      "outputs": []
    },
    {
      "cell_type": "code",
      "source": [
        "an = Service()\n",
        "an.setname(\"박달도사\")\n",
        "an.sum(1,1)"
      ],
      "metadata": {
        "colab": {
          "base_uri": "https://localhost:8080/"
        },
        "id": "XgTUmwjF2zjz",
        "outputId": "dba0a894-3e8d-4ab7-dbc1-46a500d64db8"
      },
      "execution_count": 27,
      "outputs": [
        {
          "output_type": "stream",
          "name": "stdout",
          "text": [
            "박달도사님, 1 + 1 = 2 입니다.\n"
          ]
        }
      ]
    },
    {
      "cell_type": "code",
      "source": [
        "kim = Service()\n",
        "park = Service()\n",
        "kim.name = \"김정보\"\n",
        "park.name = \"박융합\"\n",
        "\n",
        "print(kim.name)\n",
        "print(park.name)"
      ],
      "metadata": {
        "colab": {
          "base_uri": "https://localhost:8080/"
        },
        "id": "b0K0lU_G25O3",
        "outputId": "33818430-7375-4baa-9ff6-997ce4a0741b"
      },
      "execution_count": 29,
      "outputs": [
        {
          "output_type": "stream",
          "name": "stdout",
          "text": [
            "김정보\n",
            "박융합\n"
          ]
        }
      ]
    },
    {
      "cell_type": "code",
      "source": [
        "kim.secret = \"비밀은 없다\"\n",
        "print(park.secret)"
      ],
      "metadata": {
        "colab": {
          "base_uri": "https://localhost:8080/"
        },
        "id": "SzzpsB0T3SVK",
        "outputId": "ec93b26c-5510-4964-d2f1-f2fb716549f9"
      },
      "execution_count": 30,
      "outputs": [
        {
          "output_type": "stream",
          "name": "stdout",
          "text": [
            "지구는 4006년에 멸망한다.\n"
          ]
        }
      ]
    },
    {
      "cell_type": "code",
      "source": [
        "print(kim.secret)"
      ],
      "metadata": {
        "colab": {
          "base_uri": "https://localhost:8080/"
        },
        "id": "Yok0CyYE3ZD9",
        "outputId": "bb61219b-d163-4476-fd0e-fef2dcbcd4ad"
      },
      "execution_count": 31,
      "outputs": [
        {
          "output_type": "stream",
          "name": "stdout",
          "text": [
            "비밀은 없다\n"
          ]
        }
      ]
    },
    {
      "cell_type": "code",
      "source": [
        "Service.secret"
      ],
      "metadata": {
        "colab": {
          "base_uri": "https://localhost:8080/",
          "height": 35
        },
        "id": "4dQMXpAG3bt1",
        "outputId": "b50cee4c-c5f1-4137-b35f-134079ae9843"
      },
      "execution_count": 32,
      "outputs": [
        {
          "output_type": "execute_result",
          "data": {
            "text/plain": [
              "'지구는 4006년에 멸망한다.'"
            ],
            "application/vnd.google.colaboratory.intrinsic+json": {
              "type": "string"
            }
          },
          "metadata": {},
          "execution_count": 32
        }
      ]
    },
    {
      "cell_type": "code",
      "source": [
        "lee = Service()\n",
        "lee.sum(1,1)"
      ],
      "metadata": {
        "colab": {
          "base_uri": "https://localhost:8080/",
          "height": 245
        },
        "id": "D419M1x23d21",
        "outputId": "5f3bb877-fe3f-4495-da0d-ed22da761483"
      },
      "execution_count": 33,
      "outputs": [
        {
          "output_type": "error",
          "ename": "AttributeError",
          "evalue": "'Service' object has no attribute 'name'",
          "traceback": [
            "\u001b[0;31m---------------------------------------------------------------------------\u001b[0m",
            "\u001b[0;31mAttributeError\u001b[0m                            Traceback (most recent call last)",
            "\u001b[0;32m<ipython-input-33-af3d11e1d066>\u001b[0m in \u001b[0;36m<cell line: 0>\u001b[0;34m()\u001b[0m\n\u001b[1;32m      1\u001b[0m \u001b[0mlee\u001b[0m \u001b[0;34m=\u001b[0m \u001b[0mService\u001b[0m\u001b[0;34m(\u001b[0m\u001b[0;34m)\u001b[0m\u001b[0;34m\u001b[0m\u001b[0;34m\u001b[0m\u001b[0m\n\u001b[0;32m----> 2\u001b[0;31m \u001b[0mlee\u001b[0m\u001b[0;34m.\u001b[0m\u001b[0msum\u001b[0m\u001b[0;34m(\u001b[0m\u001b[0;36m1\u001b[0m\u001b[0;34m,\u001b[0m\u001b[0;36m1\u001b[0m\u001b[0;34m)\u001b[0m\u001b[0;34m\u001b[0m\u001b[0;34m\u001b[0m\u001b[0m\n\u001b[0m",
            "\u001b[0;32m<ipython-input-26-fdbc5069f38c>\u001b[0m in \u001b[0;36msum\u001b[0;34m(self, a, b)\u001b[0m\n\u001b[1;32m      5\u001b[0m     \u001b[0;32mdef\u001b[0m \u001b[0msum\u001b[0m\u001b[0;34m(\u001b[0m\u001b[0mself\u001b[0m\u001b[0;34m,\u001b[0m \u001b[0ma\u001b[0m\u001b[0;34m,\u001b[0m \u001b[0mb\u001b[0m\u001b[0;34m)\u001b[0m\u001b[0;34m:\u001b[0m\u001b[0;34m\u001b[0m\u001b[0;34m\u001b[0m\u001b[0m\n\u001b[1;32m      6\u001b[0m         \u001b[0mresult\u001b[0m \u001b[0;34m=\u001b[0m \u001b[0ma\u001b[0m\u001b[0;34m+\u001b[0m\u001b[0mb\u001b[0m\u001b[0;34m\u001b[0m\u001b[0;34m\u001b[0m\u001b[0m\n\u001b[0;32m----> 7\u001b[0;31m         \u001b[0mprint\u001b[0m\u001b[0;34m(\u001b[0m\u001b[0;34m\"%s님, %s + %s = %s 입니다.\"\u001b[0m \u001b[0;34m%\u001b[0m \u001b[0;34m(\u001b[0m\u001b[0mself\u001b[0m\u001b[0;34m.\u001b[0m\u001b[0mname\u001b[0m\u001b[0;34m,\u001b[0m \u001b[0ma\u001b[0m\u001b[0;34m,\u001b[0m \u001b[0mb\u001b[0m\u001b[0;34m,\u001b[0m \u001b[0mresult\u001b[0m\u001b[0;34m)\u001b[0m\u001b[0;34m)\u001b[0m\u001b[0;34m\u001b[0m\u001b[0;34m\u001b[0m\u001b[0m\n\u001b[0m",
            "\u001b[0;31mAttributeError\u001b[0m: 'Service' object has no attribute 'name'"
          ]
        }
      ]
    },
    {
      "cell_type": "code",
      "source": [
        "class Service:\n",
        "    secret = \"지구는 4006년에 멸망한다\"\n",
        "\n",
        "    def __init__(self, name):\n",
        "        self.name = name\n",
        "    def sum(self, a, b):\n",
        "        result = a+b\n",
        "        print(\"%s님, %s + %s = %s 입니다.\" % (self.name, a, b, result))"
      ],
      "metadata": {
        "id": "OQsAY0XX3jvc"
      },
      "execution_count": 34,
      "outputs": []
    },
    {
      "cell_type": "code",
      "source": [
        "an = Service(\"박달도사\")\n",
        "an.sum(1,1)"
      ],
      "metadata": {
        "colab": {
          "base_uri": "https://localhost:8080/"
        },
        "id": "va0gCRdp4NsM",
        "outputId": "74aed7b7-7be5-47c5-c403-6512f391c3fc"
      },
      "execution_count": 35,
      "outputs": [
        {
          "output_type": "stream",
          "name": "stdout",
          "text": [
            "박달도사님, 1 + 1 = 2 입니다.\n"
          ]
        }
      ]
    },
    {
      "cell_type": "code",
      "source": [
        "class FourCal:\n",
        "    pass\n",
        "\n",
        "a = FourCal()\n",
        "type(a)"
      ],
      "metadata": {
        "colab": {
          "base_uri": "https://localhost:8080/"
        },
        "id": "baY-Cw024TVO",
        "outputId": "c8d01383-7048-4ca4-f1a6-f87ee314b99e"
      },
      "execution_count": 36,
      "outputs": [
        {
          "output_type": "execute_result",
          "data": {
            "text/plain": [
              "__main__.FourCal"
            ]
          },
          "metadata": {},
          "execution_count": 36
        }
      ]
    },
    {
      "cell_type": "code",
      "source": [
        "class FourCal:\n",
        "    def setdata(self, first, second):\n",
        "        self.first = first\n",
        "        self.second = second\n",
        "\n",
        "a = FourCal()\n",
        "a.setdata(4,2)"
      ],
      "metadata": {
        "id": "EwDRkCbf4cc9"
      },
      "execution_count": 37,
      "outputs": []
    },
    {
      "cell_type": "code",
      "source": [
        "print(a.first)\n",
        "print(a.second)"
      ],
      "metadata": {
        "colab": {
          "base_uri": "https://localhost:8080/"
        },
        "id": "4E-SY0iY4qJk",
        "outputId": "32ebd087-0bd1-471e-851e-8d7fa9eb5ad4"
      },
      "execution_count": 38,
      "outputs": [
        {
          "output_type": "stream",
          "name": "stdout",
          "text": [
            "4\n",
            "2\n"
          ]
        }
      ]
    },
    {
      "cell_type": "code",
      "source": [
        "class FourCal:\n",
        "    def setdata(self, first, second):\n",
        "        self.first = first\n",
        "        self.second = second\n",
        "    def sum(self):\n",
        "        result = self.first + self.second\n",
        "        return result\n",
        "\n",
        "a = FourCal()\n",
        "a.setdata(4,2)\n",
        "\n",
        "print(a.sum())"
      ],
      "metadata": {
        "colab": {
          "base_uri": "https://localhost:8080/"
        },
        "id": "JDO2e_xY4uE7",
        "outputId": "0d69eba9-f545-48a8-ccf7-e4a61ea5f263"
      },
      "execution_count": 39,
      "outputs": [
        {
          "output_type": "stream",
          "name": "stdout",
          "text": [
            "6\n"
          ]
        }
      ]
    },
    {
      "cell_type": "code",
      "source": [
        "class FourCal:\n",
        "    def setdata(self, first, second):\n",
        "        self.first = first\n",
        "        self.second = second\n",
        "    def sum(self):\n",
        "        result = self.first + self.second\n",
        "        return result\n",
        "    def mul(self):\n",
        "        result = self.first * self.second\n",
        "        return result\n",
        "    def sub(self):\n",
        "        result = self.first - self.second\n",
        "        return result\n",
        "    def div(self):\n",
        "        result = self.first / self.second\n",
        "        return result"
      ],
      "metadata": {
        "id": "6j4ORyiy44xf"
      },
      "execution_count": 40,
      "outputs": []
    },
    {
      "cell_type": "code",
      "source": [
        "a = FourCal()\n",
        "b = FourCal()\n",
        "\n",
        "a.setdata(4,2)\n",
        "b.setdata(3,7)"
      ],
      "metadata": {
        "id": "kpDNBeBU7pBB"
      },
      "execution_count": 41,
      "outputs": []
    },
    {
      "cell_type": "code",
      "source": [
        "a.sum()"
      ],
      "metadata": {
        "colab": {
          "base_uri": "https://localhost:8080/"
        },
        "id": "CR7UBnVE7xO9",
        "outputId": "8126f00f-db55-4c28-be81-bd601fa7f9c3"
      },
      "execution_count": 42,
      "outputs": [
        {
          "output_type": "execute_result",
          "data": {
            "text/plain": [
              "6"
            ]
          },
          "metadata": {},
          "execution_count": 42
        }
      ]
    },
    {
      "cell_type": "code",
      "source": [
        "a.mul()"
      ],
      "metadata": {
        "colab": {
          "base_uri": "https://localhost:8080/"
        },
        "id": "XU637Jpd7yG2",
        "outputId": "4b3228cf-2d81-4d45-d03d-7acdc625163b"
      },
      "execution_count": 43,
      "outputs": [
        {
          "output_type": "execute_result",
          "data": {
            "text/plain": [
              "8"
            ]
          },
          "metadata": {},
          "execution_count": 43
        }
      ]
    },
    {
      "cell_type": "code",
      "source": [
        "a.sub()"
      ],
      "metadata": {
        "colab": {
          "base_uri": "https://localhost:8080/"
        },
        "id": "bJwhqys87zSB",
        "outputId": "401bb41a-7be2-4614-f149-242f74aed08b"
      },
      "execution_count": 44,
      "outputs": [
        {
          "output_type": "execute_result",
          "data": {
            "text/plain": [
              "2"
            ]
          },
          "metadata": {},
          "execution_count": 44
        }
      ]
    },
    {
      "cell_type": "code",
      "source": [
        "a.div()"
      ],
      "metadata": {
        "colab": {
          "base_uri": "https://localhost:8080/"
        },
        "id": "fZDITPqB70TE",
        "outputId": "35ac3a1e-f517-4d22-c14a-5b4e22ef3cc3"
      },
      "execution_count": 45,
      "outputs": [
        {
          "output_type": "execute_result",
          "data": {
            "text/plain": [
              "2.0"
            ]
          },
          "metadata": {},
          "execution_count": 45
        }
      ]
    },
    {
      "cell_type": "code",
      "source": [
        "b.sub()"
      ],
      "metadata": {
        "colab": {
          "base_uri": "https://localhost:8080/"
        },
        "id": "Tnnixd3B71wR",
        "outputId": "8524ca95-e36b-48b7-9e0a-0bf31b61157c"
      },
      "execution_count": 46,
      "outputs": [
        {
          "output_type": "execute_result",
          "data": {
            "text/plain": [
              "-4"
            ]
          },
          "metadata": {},
          "execution_count": 46
        }
      ]
    },
    {
      "cell_type": "code",
      "source": [
        "import random\n",
        "\n",
        "player1_dice = []\n",
        "player2_dice = []\n",
        "\n",
        "for i in range(3):\n",
        "    player1_dice.append(random.randint(1,6))\n",
        "    player2_dice.append(random.randint(1,6))\n",
        "\n",
        "print(\"Player 1 rolled\" + str(player1_dice))\n",
        "print(\"Player 2 rolled\" + str(player2_dice))\n",
        "\n",
        "if sum(player1_dice) == sum(player2_dice):\n",
        "    print(\"Draw\")\n",
        "elif sum(player1_dice) > sum(player2_dice):\n",
        "    print(\"Player 1 wins\")\n",
        "else:\n",
        "    print(\"Player 2 wins\")"
      ],
      "metadata": {
        "colab": {
          "base_uri": "https://localhost:8080/"
        },
        "id": "rLUAFy6s72p-",
        "outputId": "810686a4-6218-43a6-fe4e-e99161908dc3"
      },
      "execution_count": 53,
      "outputs": [
        {
          "output_type": "stream",
          "name": "stdout",
          "text": [
            "Player 1 rolled[5, 5, 3]\n",
            "Player 2 rolled[4, 3, 6]\n",
            "Draw\n"
          ]
        }
      ]
    },
    {
      "cell_type": "code",
      "source": [
        "from random import randint\n",
        "\n",
        "class Player:\n",
        "    def __init__(self):\n",
        "        self.dice = []\n",
        "\n",
        "    def roll(self):\n",
        "        self.dice = []\n",
        "        for i in range(3):\n",
        "            self.dice.append(randint(1,6))\n",
        "\n",
        "    def get_dice(self):\n",
        "        return self.dice\n",
        "\n",
        "player1 = Player()\n",
        "player2 = Player()\n",
        "\n",
        "player1.roll()\n",
        "player2.roll()\n",
        "\n",
        "print(\"Player 1 rolled \" + str(player1.get_dice()))\n",
        "print(\"Player 2 rolled \" + str(player2.get_dice()))\n",
        "\n",
        "if sum(player1.get_dice()) == sum(player2.get_dice()):\n",
        "    print(\"Draw\")\n",
        "elif sum(player1.get_dice()) > sum(player2.get_dice()):\n",
        "    print(\"Player 1 wins\")\n",
        "else:\n",
        "    print(\"Player 2 wins\")"
      ],
      "metadata": {
        "colab": {
          "base_uri": "https://localhost:8080/"
        },
        "id": "lQuaWdEm9IT_",
        "outputId": "9fbd560b-e9ac-4e1a-aef4-de80ec4594e7"
      },
      "execution_count": 57,
      "outputs": [
        {
          "output_type": "stream",
          "name": "stdout",
          "text": [
            "Player 1 rolled [4, 4, 2]\n",
            "Player 2 rolled [6, 5, 1]\n",
            "Player 2 wins\n"
          ]
        }
      ]
    },
    {
      "cell_type": "code",
      "source": [
        "class Customer(object):\n",
        "    def __init__(self, name):\n",
        "        self.name = name\n",
        "\n",
        "    def set_balance(self, balance=0.0):\n",
        "        self.balance = balance\n",
        "\n",
        "    def withdraw(self, amount):\n",
        "        if amount > self.balance:\n",
        "            raise RuntimeError(\"Amount greater than available balance.\")\n",
        "        self.balance -= amount\n",
        "        return self.balance\n",
        "\n",
        "    def deposit(self, amount):\n",
        "        self.balance += amount\n",
        "        return self.balance\n",
        "\n",
        "customer1 = Customer(\"정상훈\")\n",
        "customer1.set_balance(1000)\n",
        "customer1.withdraw(50)"
      ],
      "metadata": {
        "colab": {
          "base_uri": "https://localhost:8080/"
        },
        "id": "g9oKJ_E89_kE",
        "outputId": "c1fe6642-b9bc-48f9-8cf7-bd4b5cdfcff9"
      },
      "execution_count": 62,
      "outputs": [
        {
          "output_type": "execute_result",
          "data": {
            "text/plain": [
              "950"
            ]
          },
          "metadata": {},
          "execution_count": 62
        }
      ]
    },
    {
      "cell_type": "code",
      "source": [
        "customer1.withdraw(500)"
      ],
      "metadata": {
        "colab": {
          "base_uri": "https://localhost:8080/"
        },
        "id": "i-V1Xya7AiGs",
        "outputId": "1b71bc77-852c-406a-8966-10c1cab09d6d"
      },
      "execution_count": 63,
      "outputs": [
        {
          "output_type": "execute_result",
          "data": {
            "text/plain": [
              "450"
            ]
          },
          "metadata": {},
          "execution_count": 63
        }
      ]
    },
    {
      "cell_type": "code",
      "source": [
        "customer1.deposit(1500)"
      ],
      "metadata": {
        "colab": {
          "base_uri": "https://localhost:8080/"
        },
        "id": "1mOwyVeeAn_k",
        "outputId": "f4188433-27c2-43dc-d234-c6a4513bd6fb"
      },
      "execution_count": 64,
      "outputs": [
        {
          "output_type": "execute_result",
          "data": {
            "text/plain": [
              "1950"
            ]
          },
          "metadata": {},
          "execution_count": 64
        }
      ]
    },
    {
      "cell_type": "code",
      "source": [],
      "metadata": {
        "id": "8vzs7_riA3E8"
      },
      "execution_count": null,
      "outputs": []
    }
  ]
}